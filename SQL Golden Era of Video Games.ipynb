{
 "cells": [
  {
   "cell_type": "markdown",
   "id": "8347b0ba-45f0-4195-8fff-66f79e192b9b",
   "metadata": {},
   "source": [
    "![video_game](video_game.jpg)\n"
   ]
  },
  {
   "cell_type": "markdown",
   "id": "35d4e17b-eeb6-40dd-a140-7b949390e115",
   "metadata": {
    "tags": []
   },
   "source": [
    "Video games are big business: the global gaming market is projected to be worth more than $300 billion by 2027 according to Mordor Intelligence. With so much money at stake, the major game publishers are hugely incentivized to create the next big hit. But are games getting better, or has the golden age of video games already passed?\n",
    "\n",
    "In this project, you'll analyze video game critic and user scores as well as sales data for the top 400 video games released since 1977. You'll search for a golden age of video games by identifying release years that users and critics liked best, and you'll explore the business side of gaming by looking at game sales data.\n",
    "\n",
    "Your search will involve joining datasets and comparing results with set theory. You'll also filter, group, and order data. Make sure you brush up on these skills before trying this project! The database contains two tables. Each table has been limited to 400 rows for this project, but you can find the complete dataset with over 13,000 games on Kaggle.\n",
    "\n",
    "### `game_sales` table\n",
    "\n",
    "| Column | Definition | Data Type |\n",
    "|-|-|-|  \n",
    "|name|Name of the video game|`varchar`|\n",
    "|platform|Gaming platform|`varchar`|\n",
    "|publisher|Game publisher|`varchar`|\n",
    "|developer|Game developer|`varchar`|\n",
    "|games_sold|Number of copies sold (millions)|`float`|\n",
    "|year|Release year|`int`|\n",
    "\n",
    "### `reviews` table\n",
    "\n",
    "| Column | Definition | Data Type |\n",
    "|-|-|-|\n",
    "|name|Name of the video game|`varchar`|  \n",
    "|critic_score|Critic score according to Metacritic|`float`|\n",
    "|user_score|User score according to Metacritic|`float`|\n",
    "\n",
    "\n",
    "### `users_avg_year_rating` table\n",
    "\n",
    "| Column | Definition | Data Type |\n",
    "|-|-|-|\n",
    "|year| Release year of the games reviewed |`int`|  \n",
    "|num_games| Number of games released that year |`int`|\n",
    "|avg_user_score| Average score of all the games ratings for the year |`float`|\n",
    "\n",
    "### `critics_avg_year_rating` table\n",
    "\n",
    "| Column | Definition | Data Type |\n",
    "|-|-|-|\n",
    "|year| Release year of the games reviewed |`int`|  \n",
    "|num_games| Number of games released that year |`int`|\n",
    "|avg_critic_score| Average score of all the games ratings for the year |`float`|\n",
    "\n"
   ]
  },
  {
   "cell_type": "code",
   "execution_count": 1,
   "id": "1216acd5-e067-4582-be43-23907fce4bf3",
   "metadata": {
    "customType": "sql",
    "dataFrameVariableName": "best_selling_games",
    "executionCancelledAt": null,
    "executionTime": 730,
    "lastExecutedAt": 1701691279746,
    "lastScheduledRunId": null,
    "lastSuccessfullyExecutedCode": "SELECT *\nFROM game_sales\nORDER BY games_sold DESC\nLIMIT 10;\n",
    "outputsMetadata": {
     "0": {
      "height": 321,
      "type": "dataFrame"
     }
    },
    "sqlCellMode": "dataFrame",
    "sqlSource": {
     "integrationId": "89e17161-a224-4a8a-846b-0adc0fe7a4b1",
     "integrationType": "postgresql",
     "type": "integration"
    }
   },
   "outputs": [
    {
     "@datacamp/metadata": {
      "executedQuery": "SELECT *\nFROM game_sales\nORDER BY games_sold DESC\nLIMIT 10;",
      "executedQueryParameters": []
     },
     "data": {
      "application/com.datacamp.data-table.v2+json": {
       "table": {
        "data": {
         "developer": [
          "Nintendo EAD",
          "Nintendo EAD",
          "Valve Corporation",
          "Nintendo EAD",
          "PUBG Corporation",
          "Mojang AB",
          "Nintendo EAD",
          "Game Freak",
          "Nintendo EAD",
          "Nintendo EAD"
         ],
         "games_sold": [
          82.9,
          40.24,
          40,
          37.32,
          36.6,
          33.15,
          33.13,
          31.38,
          30.8,
          30.3
         ],
         "index": [
          0,
          1,
          2,
          3,
          4,
          5,
          6,
          7,
          8,
          9
         ],
         "name": [
          "Wii Sports for Wii",
          "Super Mario Bros. for NES",
          "Counter-Strike: Global Offensive for PC",
          "Mario Kart Wii for Wii",
          "PLAYERUNKNOWN'S BATTLEGROUNDS for PC",
          "Minecraft for PC",
          "Wii Sports Resort for Wii",
          "Pokemon Red / Green / Blue Version for GB",
          "New Super Mario Bros. for DS",
          "New Super Mario Bros. Wii for Wii"
         ],
         "platform": [
          "Wii",
          "NES",
          "PC",
          "Wii",
          "PC",
          "PC",
          "Wii",
          "GB",
          "DS",
          "Wii"
         ],
         "publisher": [
          "Nintendo",
          "Nintendo",
          "Valve",
          "Nintendo",
          "PUBG Corporation",
          "Mojang",
          "Nintendo",
          "Nintendo",
          "Nintendo",
          "Nintendo"
         ],
         "year": [
          2006,
          1985,
          2012,
          2008,
          2017,
          2010,
          2009,
          1998,
          2006,
          2009
         ]
        },
        "schema": {
         "fields": [
          {
           "name": "index",
           "type": "integer"
          },
          {
           "name": "name",
           "type": "string"
          },
          {
           "name": "platform",
           "type": "string"
          },
          {
           "name": "publisher",
           "type": "string"
          },
          {
           "name": "developer",
           "type": "string"
          },
          {
           "name": "games_sold",
           "type": "number"
          },
          {
           "name": "year",
           "type": "integer"
          }
         ],
         "pandas_version": "1.4.0",
         "primaryKey": [
          "index"
         ]
        }
       },
       "total_rows": 10,
       "truncation_type": null
      },
      "text/html": [
       "<div>\n",
       "<style scoped>\n",
       "    .dataframe tbody tr th:only-of-type {\n",
       "        vertical-align: middle;\n",
       "    }\n",
       "\n",
       "    .dataframe tbody tr th {\n",
       "        vertical-align: top;\n",
       "    }\n",
       "\n",
       "    .dataframe thead th {\n",
       "        text-align: right;\n",
       "    }\n",
       "</style>\n",
       "<table border=\"1\" class=\"dataframe\">\n",
       "  <thead>\n",
       "    <tr style=\"text-align: right;\">\n",
       "      <th></th>\n",
       "      <th>name</th>\n",
       "      <th>platform</th>\n",
       "      <th>publisher</th>\n",
       "      <th>developer</th>\n",
       "      <th>games_sold</th>\n",
       "      <th>year</th>\n",
       "    </tr>\n",
       "  </thead>\n",
       "  <tbody>\n",
       "    <tr>\n",
       "      <th>0</th>\n",
       "      <td>Wii Sports for Wii</td>\n",
       "      <td>Wii</td>\n",
       "      <td>Nintendo</td>\n",
       "      <td>Nintendo EAD</td>\n",
       "      <td>82.90</td>\n",
       "      <td>2006</td>\n",
       "    </tr>\n",
       "    <tr>\n",
       "      <th>1</th>\n",
       "      <td>Super Mario Bros. for NES</td>\n",
       "      <td>NES</td>\n",
       "      <td>Nintendo</td>\n",
       "      <td>Nintendo EAD</td>\n",
       "      <td>40.24</td>\n",
       "      <td>1985</td>\n",
       "    </tr>\n",
       "    <tr>\n",
       "      <th>2</th>\n",
       "      <td>Counter-Strike: Global Offensive for PC</td>\n",
       "      <td>PC</td>\n",
       "      <td>Valve</td>\n",
       "      <td>Valve Corporation</td>\n",
       "      <td>40.00</td>\n",
       "      <td>2012</td>\n",
       "    </tr>\n",
       "    <tr>\n",
       "      <th>3</th>\n",
       "      <td>Mario Kart Wii for Wii</td>\n",
       "      <td>Wii</td>\n",
       "      <td>Nintendo</td>\n",
       "      <td>Nintendo EAD</td>\n",
       "      <td>37.32</td>\n",
       "      <td>2008</td>\n",
       "    </tr>\n",
       "    <tr>\n",
       "      <th>4</th>\n",
       "      <td>PLAYERUNKNOWN'S BATTLEGROUNDS for PC</td>\n",
       "      <td>PC</td>\n",
       "      <td>PUBG Corporation</td>\n",
       "      <td>PUBG Corporation</td>\n",
       "      <td>36.60</td>\n",
       "      <td>2017</td>\n",
       "    </tr>\n",
       "    <tr>\n",
       "      <th>5</th>\n",
       "      <td>Minecraft for PC</td>\n",
       "      <td>PC</td>\n",
       "      <td>Mojang</td>\n",
       "      <td>Mojang AB</td>\n",
       "      <td>33.15</td>\n",
       "      <td>2010</td>\n",
       "    </tr>\n",
       "    <tr>\n",
       "      <th>6</th>\n",
       "      <td>Wii Sports Resort for Wii</td>\n",
       "      <td>Wii</td>\n",
       "      <td>Nintendo</td>\n",
       "      <td>Nintendo EAD</td>\n",
       "      <td>33.13</td>\n",
       "      <td>2009</td>\n",
       "    </tr>\n",
       "    <tr>\n",
       "      <th>7</th>\n",
       "      <td>Pokemon Red / Green / Blue Version for GB</td>\n",
       "      <td>GB</td>\n",
       "      <td>Nintendo</td>\n",
       "      <td>Game Freak</td>\n",
       "      <td>31.38</td>\n",
       "      <td>1998</td>\n",
       "    </tr>\n",
       "    <tr>\n",
       "      <th>8</th>\n",
       "      <td>New Super Mario Bros. for DS</td>\n",
       "      <td>DS</td>\n",
       "      <td>Nintendo</td>\n",
       "      <td>Nintendo EAD</td>\n",
       "      <td>30.80</td>\n",
       "      <td>2006</td>\n",
       "    </tr>\n",
       "    <tr>\n",
       "      <th>9</th>\n",
       "      <td>New Super Mario Bros. Wii for Wii</td>\n",
       "      <td>Wii</td>\n",
       "      <td>Nintendo</td>\n",
       "      <td>Nintendo EAD</td>\n",
       "      <td>30.30</td>\n",
       "      <td>2009</td>\n",
       "    </tr>\n",
       "  </tbody>\n",
       "</table>\n",
       "</div>"
      ],
      "text/plain": [
       "                                        name platform  ... games_sold  year\n",
       "0                         Wii Sports for Wii      Wii  ...      82.90  2006\n",
       "1                  Super Mario Bros. for NES      NES  ...      40.24  1985\n",
       "2    Counter-Strike: Global Offensive for PC       PC  ...      40.00  2012\n",
       "3                     Mario Kart Wii for Wii      Wii  ...      37.32  2008\n",
       "4       PLAYERUNKNOWN'S BATTLEGROUNDS for PC       PC  ...      36.60  2017\n",
       "5                           Minecraft for PC       PC  ...      33.15  2010\n",
       "6                  Wii Sports Resort for Wii      Wii  ...      33.13  2009\n",
       "7  Pokemon Red / Green / Blue Version for GB       GB  ...      31.38  1998\n",
       "8               New Super Mario Bros. for DS       DS  ...      30.80  2006\n",
       "9          New Super Mario Bros. Wii for Wii      Wii  ...      30.30  2009\n",
       "\n",
       "[10 rows x 6 columns]"
      ]
     },
     "execution_count": 1,
     "metadata": {},
     "output_type": "execute_result"
    }
   ],
   "source": [
    "-- best_selling_games\n",
    "\n",
    "SELECT *\n",
    "FROM game_sales\n",
    "ORDER BY games_sold DESC\n",
    "LIMIT 10;\n"
   ]
  },
  {
   "cell_type": "code",
   "execution_count": 2,
   "id": "e2148652-a2e1-43fa-9d50-d384d22842d1",
   "metadata": {
    "customType": "sql",
    "dataFrameVariableName": "critics_top_ten_years",
    "executionCancelledAt": null,
    "executionTime": 602,
    "lastExecutedAt": 1701691282697,
    "lastScheduledRunId": null,
    "lastSuccessfullyExecutedCode": "SELECT g.year, COUNT(g.name) AS num_games, ROUND(AVG(r.critic_score),2) AS avg_critic_score\nFROM game_sales AS g\nINNER JOIN reviews AS r\nON  g.name = r.name\nGROUP BY g.year\nHAVING COUNT(g.name) > 4\nORDER BY avg_critic_score DESC\nLIMIT 10;\n",
    "outputsMetadata": {
     "0": {
      "height": 321,
      "type": "dataFrame"
     }
    },
    "sqlCellMode": "dataFrame",
    "sqlSource": {
     "integrationId": "89e17161-a224-4a8a-846b-0adc0fe7a4b1",
     "integrationType": "postgresql",
     "type": "integration"
    }
   },
   "outputs": [
    {
     "@datacamp/metadata": {
      "executedQuery": "SELECT g.year, COUNT(g.name) AS num_games, ROUND(AVG(r.critic_score),2) AS avg_critic_score\nFROM game_sales AS g\nINNER JOIN reviews AS r\nON  g.name = r.name\nGROUP BY g.year\nHAVING COUNT(g.name) > 4\nORDER BY avg_critic_score DESC\nLIMIT 10;",
      "executedQueryParameters": []
     },
     "data": {
      "application/com.datacamp.data-table.v2+json": {
       "table": {
        "data": {
         "avg_critic_score": [
          9.32,
          9.03,
          8.99,
          8.93,
          8.82,
          8.76,
          8.67,
          8.66,
          8.63,
          8.62
         ],
         "index": [
          0,
          1,
          2,
          3,
          4,
          5,
          6,
          7,
          8,
          9
         ],
         "num_games": [
          10,
          11,
          9,
          11,
          13,
          26,
          13,
          18,
          20,
          13
         ],
         "year": [
          1998,
          2004,
          2002,
          1999,
          2001,
          2011,
          2016,
          2013,
          2008,
          2017
         ]
        },
        "schema": {
         "fields": [
          {
           "name": "index",
           "type": "integer"
          },
          {
           "name": "year",
           "type": "integer"
          },
          {
           "name": "num_games",
           "type": "integer"
          },
          {
           "name": "avg_critic_score",
           "type": "number"
          }
         ],
         "pandas_version": "1.4.0",
         "primaryKey": [
          "index"
         ]
        }
       },
       "total_rows": 10,
       "truncation_type": null
      },
      "text/html": [
       "<div>\n",
       "<style scoped>\n",
       "    .dataframe tbody tr th:only-of-type {\n",
       "        vertical-align: middle;\n",
       "    }\n",
       "\n",
       "    .dataframe tbody tr th {\n",
       "        vertical-align: top;\n",
       "    }\n",
       "\n",
       "    .dataframe thead th {\n",
       "        text-align: right;\n",
       "    }\n",
       "</style>\n",
       "<table border=\"1\" class=\"dataframe\">\n",
       "  <thead>\n",
       "    <tr style=\"text-align: right;\">\n",
       "      <th></th>\n",
       "      <th>year</th>\n",
       "      <th>num_games</th>\n",
       "      <th>avg_critic_score</th>\n",
       "    </tr>\n",
       "  </thead>\n",
       "  <tbody>\n",
       "    <tr>\n",
       "      <th>0</th>\n",
       "      <td>1998</td>\n",
       "      <td>10</td>\n",
       "      <td>9.32</td>\n",
       "    </tr>\n",
       "    <tr>\n",
       "      <th>1</th>\n",
       "      <td>2004</td>\n",
       "      <td>11</td>\n",
       "      <td>9.03</td>\n",
       "    </tr>\n",
       "    <tr>\n",
       "      <th>2</th>\n",
       "      <td>2002</td>\n",
       "      <td>9</td>\n",
       "      <td>8.99</td>\n",
       "    </tr>\n",
       "    <tr>\n",
       "      <th>3</th>\n",
       "      <td>1999</td>\n",
       "      <td>11</td>\n",
       "      <td>8.93</td>\n",
       "    </tr>\n",
       "    <tr>\n",
       "      <th>4</th>\n",
       "      <td>2001</td>\n",
       "      <td>13</td>\n",
       "      <td>8.82</td>\n",
       "    </tr>\n",
       "    <tr>\n",
       "      <th>5</th>\n",
       "      <td>2011</td>\n",
       "      <td>26</td>\n",
       "      <td>8.76</td>\n",
       "    </tr>\n",
       "    <tr>\n",
       "      <th>6</th>\n",
       "      <td>2016</td>\n",
       "      <td>13</td>\n",
       "      <td>8.67</td>\n",
       "    </tr>\n",
       "    <tr>\n",
       "      <th>7</th>\n",
       "      <td>2013</td>\n",
       "      <td>18</td>\n",
       "      <td>8.66</td>\n",
       "    </tr>\n",
       "    <tr>\n",
       "      <th>8</th>\n",
       "      <td>2008</td>\n",
       "      <td>20</td>\n",
       "      <td>8.63</td>\n",
       "    </tr>\n",
       "    <tr>\n",
       "      <th>9</th>\n",
       "      <td>2017</td>\n",
       "      <td>13</td>\n",
       "      <td>8.62</td>\n",
       "    </tr>\n",
       "  </tbody>\n",
       "</table>\n",
       "</div>"
      ],
      "text/plain": [
       "   year  num_games  avg_critic_score\n",
       "0  1998         10              9.32\n",
       "1  2004         11              9.03\n",
       "2  2002          9              8.99\n",
       "3  1999         11              8.93\n",
       "4  2001         13              8.82\n",
       "5  2011         26              8.76\n",
       "6  2016         13              8.67\n",
       "7  2013         18              8.66\n",
       "8  2008         20              8.63\n",
       "9  2017         13              8.62"
      ]
     },
     "execution_count": 2,
     "metadata": {},
     "output_type": "execute_result"
    }
   ],
   "source": [
    "-- critics_top_ten_years\n",
    "\n",
    "SELECT g.year, COUNT(g.name) AS num_games, ROUND(AVG(r.critic_score),2) AS avg_critic_score\n",
    "FROM game_sales AS g\n",
    "INNER JOIN reviews AS r\n",
    "ON  g.name = r.name\n",
    "GROUP BY g.year\n",
    "HAVING COUNT(g.name) > 4\n",
    "ORDER BY avg_critic_score DESC\n",
    "LIMIT 10;\n"
   ]
  },
  {
   "cell_type": "code",
   "execution_count": 3,
   "id": "e08b19dc-1c07-44d3-ba2d-bfef848cb6b3",
   "metadata": {
    "customType": "sql",
    "dataFrameVariableName": "golden_years",
    "executionCancelledAt": null,
    "executionTime": null,
    "lastExecutedAt": null,
    "lastScheduledRunId": null,
    "lastSuccessfullyExecutedCode": null,
    "outputsMetadata": {
     "0": {
      "height": 222,
      "type": "dataFrame"
     }
    },
    "sqlCellMode": "dataFrame",
    "sqlSource": {
     "integrationId": "89e17161-a224-4a8a-846b-0adc0fe7a4b1",
     "integrationType": "postgresql",
     "type": "integration"
    }
   },
   "outputs": [
    {
     "@datacamp/metadata": {
      "executedQuery": "SELECT u.year, u.num_games,c.avg_critic_score,u.avg_user_score, GREATEST(c.avg_critic_score,avg_user_score) - LEAST(c.avg_critic_score,u.avg_user_score) AS diff\nFROM critics_avg_year_rating AS c\nJOIN users_avg_year_rating AS u\nON c.year = u.year\nWHERE avg_critic_score > 9 OR avg_user_score >9\nORDER BY diff ASC;",
      "executedQueryParameters": []
     },
     "data": {
      "application/com.datacamp.data-table.v2+json": {
       "table": {
        "data": {
         "avg_critic_score": [
          9.32,
          8.63,
          9.03,
          8.55,
          8.41,
          7.93
         ],
         "avg_user_score": [
          9.4,
          9.03,
          8.55,
          9.18,
          9.24,
          9.5
         ],
         "diff": [
          0.08,
          0.4,
          0.48,
          0.63,
          0.83,
          1.57
         ],
         "index": [
          0,
          1,
          2,
          3,
          4,
          5
         ],
         "num_games": [
          10,
          20,
          11,
          20,
          23,
          8
         ],
         "year": [
          1998,
          2008,
          2004,
          2009,
          2010,
          1997
         ]
        },
        "schema": {
         "fields": [
          {
           "name": "index",
           "type": "integer"
          },
          {
           "name": "year",
           "type": "integer"
          },
          {
           "name": "num_games",
           "type": "integer"
          },
          {
           "name": "avg_critic_score",
           "type": "number"
          },
          {
           "name": "avg_user_score",
           "type": "number"
          },
          {
           "name": "diff",
           "type": "number"
          }
         ],
         "pandas_version": "1.4.0",
         "primaryKey": [
          "index"
         ]
        }
       },
       "total_rows": 6,
       "truncation_type": null
      },
      "text/html": [
       "<div>\n",
       "<style scoped>\n",
       "    .dataframe tbody tr th:only-of-type {\n",
       "        vertical-align: middle;\n",
       "    }\n",
       "\n",
       "    .dataframe tbody tr th {\n",
       "        vertical-align: top;\n",
       "    }\n",
       "\n",
       "    .dataframe thead th {\n",
       "        text-align: right;\n",
       "    }\n",
       "</style>\n",
       "<table border=\"1\" class=\"dataframe\">\n",
       "  <thead>\n",
       "    <tr style=\"text-align: right;\">\n",
       "      <th></th>\n",
       "      <th>year</th>\n",
       "      <th>num_games</th>\n",
       "      <th>avg_critic_score</th>\n",
       "      <th>avg_user_score</th>\n",
       "      <th>diff</th>\n",
       "    </tr>\n",
       "  </thead>\n",
       "  <tbody>\n",
       "    <tr>\n",
       "      <th>0</th>\n",
       "      <td>1998</td>\n",
       "      <td>10</td>\n",
       "      <td>9.32</td>\n",
       "      <td>9.40</td>\n",
       "      <td>0.08</td>\n",
       "    </tr>\n",
       "    <tr>\n",
       "      <th>1</th>\n",
       "      <td>2008</td>\n",
       "      <td>20</td>\n",
       "      <td>8.63</td>\n",
       "      <td>9.03</td>\n",
       "      <td>0.40</td>\n",
       "    </tr>\n",
       "    <tr>\n",
       "      <th>2</th>\n",
       "      <td>2004</td>\n",
       "      <td>11</td>\n",
       "      <td>9.03</td>\n",
       "      <td>8.55</td>\n",
       "      <td>0.48</td>\n",
       "    </tr>\n",
       "    <tr>\n",
       "      <th>3</th>\n",
       "      <td>2009</td>\n",
       "      <td>20</td>\n",
       "      <td>8.55</td>\n",
       "      <td>9.18</td>\n",
       "      <td>0.63</td>\n",
       "    </tr>\n",
       "    <tr>\n",
       "      <th>4</th>\n",
       "      <td>2010</td>\n",
       "      <td>23</td>\n",
       "      <td>8.41</td>\n",
       "      <td>9.24</td>\n",
       "      <td>0.83</td>\n",
       "    </tr>\n",
       "    <tr>\n",
       "      <th>5</th>\n",
       "      <td>1997</td>\n",
       "      <td>8</td>\n",
       "      <td>7.93</td>\n",
       "      <td>9.50</td>\n",
       "      <td>1.57</td>\n",
       "    </tr>\n",
       "  </tbody>\n",
       "</table>\n",
       "</div>"
      ],
      "text/plain": [
       "   year  num_games  avg_critic_score  avg_user_score  diff\n",
       "0  1998         10              9.32            9.40  0.08\n",
       "1  2008         20              8.63            9.03  0.40\n",
       "2  2004         11              9.03            8.55  0.48\n",
       "3  2009         20              8.55            9.18  0.63\n",
       "4  2010         23              8.41            9.24  0.83\n",
       "5  1997          8              7.93            9.50  1.57"
      ]
     },
     "execution_count": 3,
     "metadata": {},
     "output_type": "execute_result"
    }
   ],
   "source": [
    "-- golden_years\n",
    "\n",
    "SELECT u.year, u.num_games,c.avg_critic_score,u.avg_user_score, GREATEST(c.avg_critic_score,avg_user_score) - LEAST(c.avg_critic_score,u.avg_user_score) AS diff\n",
    "FROM critics_avg_year_rating AS c\n",
    "JOIN users_avg_year_rating AS u\n",
    "ON c.year = u.year\n",
    "WHERE avg_critic_score > 9 OR avg_user_score >9\n",
    "ORDER BY diff ASC;"
   ]
  }
 ],
 "metadata": {
  "editor": "DataCamp Workspace",
  "kernelspec": {
   "display_name": "Python 3",
   "language": "python",
   "name": "python3"
  },
  "language_info": {
   "codemirror_mode": {
    "name": "ipython",
    "version": 3
   },
   "file_extension": ".py",
   "mimetype": "text/x-python",
   "name": "python",
   "nbconvert_exporter": "python",
   "pygments_lexer": "ipython3",
   "version": "3.8.8"
  }
 },
 "nbformat": 4,
 "nbformat_minor": 5
}
